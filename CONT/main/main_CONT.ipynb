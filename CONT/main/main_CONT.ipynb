{
 "cells": [
  {
   "cell_type": "code",
   "execution_count": null,
   "metadata": {},
   "outputs": [],
   "source": [
    "# import required packages\n",
    "import os\n",
    "from pathlib import Path\n",
    "import configparser\n",
    "import numpy as np\n",
    "from tqdm import tqdm\n",
    "import pandas as pd\n",
    "import torch\n",
    "import matplotlib.pyplot as plt\n",
    "\n",
    "# import dataloader\n",
    "from CONT.utils.data import create_dataloader\n",
    "from CONT.utils.data import PiImuToMomentsDataset as DATA_SET\n",
    "\n",
    "# import model\n",
    "from CONT.utils.model import PiImutoMomentsNet as MODEL_CLASS\n",
    "\n",
    "# import train eval routine\n",
    "from CONT.utils.training import TrainingRoutine as TRAINING\n",
    "\n",
    "# import custom loss\n",
    "from CONT.utils.loss import AxisWiseLoss_RMSE as CRITERION\n",
    "\n",
    "# plot predicitons\n",
    "from CONT.utils.plot import plot_prediction as PLOT\n",
    "from CONT.utils.plot import plot_loss\n",
    "\n",
    "# calculate RMSE & nRMSE\n",
    "from CONT.utils.utils import model_statistics\n",
    "\n",
    "# go to root directory\n",
    "os.chdir(\"..\")\n",
    "\n",
    "# get device\n",
    "device = torch.device('cuda:0') if torch.cuda.is_available() else torch.device('cpu')\n"
   ]
  },
  {
   "cell_type": "code",
   "execution_count": null,
   "metadata": {},
   "outputs": [],
   "source": [
    "# load config\n",
    "config_name = 'config/CONT_config.txt'\n",
    "cfg = configparser.ConfigParser()\n",
    "cfg.read(config_name)\n",
    "# print('\\n'.join(f\"[{section}]\\n    {option} = {value}\" if option == next(iter(cfg[section])) else f\"    {option} =\n",
    "# {value}\" for section in cfg.sections() for option, value in cfg[section].items()))"
   ]
  },
  {
   "cell_type": "code",
   "execution_count": null,
   "metadata": {},
   "outputs": [],
   "source": [
    "# set the initial value for pseudo-random functions\n",
    "np.random.seed(cfg.getint('experiment', 'seed'))\n",
    "torch.manual_seed(cfg.getint('experiment', 'seed'))"
   ]
  },
  {
   "cell_type": "code",
   "execution_count": null,
   "metadata": {},
   "outputs": [],
   "source": [
    "# Load Variables\n",
    "PATH_DATA = Path(cfg['settings']['data_path'])\n",
    "TENSOR_LENGTH = cfg.getint('training_parameters', 'tensor_length')\n",
    "MODEL = MODEL_CLASS(cfg)\n",
    "VAL_SUBJ = [cfg.getint(\"experiment\", \"val_subj\")]"
   ]
  },
  {
   "cell_type": "code",
   "execution_count": null,
   "metadata": {},
   "outputs": [],
   "source": [
    "# Loss Variables\n",
    "SX = cfg.getfloat('loss_parameters', 'scale_x')  # frontal plane\n",
    "SY = cfg.getfloat('loss_parameters', 'scale_y')  # transverse plane\n",
    "SZ = cfg.getfloat('loss_parameters', 'scale_z')  # sagittal plane\n",
    "criterion = CRITERION(weights=(SX, SY, SZ))"
   ]
  },
  {
   "cell_type": "code",
   "execution_count": null,
   "metadata": {},
   "outputs": [],
   "source": [
    "# create data loaders (participant wise split)\n",
    "train_loader, val_loader = create_dataloader(PATH_DATA, VAL_SUBJ, cfg, DATA_SET)"
   ]
  },
  {
   "cell_type": "code",
   "execution_count": null,
   "metadata": {},
   "outputs": [],
   "source": [
    "# train the model\n",
    "training = TRAINING(\n",
    "    device=device,\n",
    "    cfg=cfg,\n",
    "    model=MODEL,\n",
    "    criterion=criterion,\n",
    "    train_loader=train_loader,\n",
    "    val_loader=val_loader\n",
    ")\n",
    "\n",
    "EPOCHS = cfg.getint('experiment','n_epochs')\n",
    "for epoch in tqdm(range(EPOCHS)):\n",
    "    training.train(epoch=epoch, verbose=0)\n",
    "    training.val(epoch=epoch, verbose=0)\n",
    "    print(f\"Epoch {epoch + 1}/{EPOCHS}: \\ttrain: {training.train_losses[epoch]}, \\teval: {training.val_losses[epoch]}\")\n",
    "\n",
    "# calculate mean RMSE & nRMSE of validation set\n",
    "mean_rmse, mean_nrmse = model_statistics(cfg, MODEL, device, val_loader)\n",
    "print(f'RMSE is {mean_rmse.detach().numpy()} and nRMSE is {mean_nrmse.detach().numpy()}'\n",
    "      f' for frontal, transverse & sagittal plane, respectively.')\n"
   ]
  },
  {
   "cell_type": "code",
   "execution_count": null,
   "metadata": {},
   "outputs": [],
   "source": [
    "# get loss over epochs\n",
    "loss_df = pd.DataFrame({\n",
    "    \"epoch\": np.arange(1, EPOCHS + 1),\n",
    "    \"train\": training.train_losses,\n",
    "    \"val\": training.val_losses})"
   ]
  },
  {
   "cell_type": "code",
   "execution_count": null,
   "metadata": {},
   "outputs": [],
   "source": [
    "# plot prediction examples\n",
    "PLOT(MODEL, train_loader, device, loader=\"train\")\n",
    "PLOT(MODEL, val_loader, device, loader=\"val\")"
   ]
  }
 ],
 "metadata": {
  "kernelspec": {
   "display_name": "Python 3 (ipykernel)",
   "language": "python",
   "name": "python3"
  },
  "language_info": {
   "codemirror_mode": {
    "name": "ipython",
    "version": 3
   },
   "file_extension": ".py",
   "mimetype": "text/x-python",
   "name": "python",
   "nbconvert_exporter": "python",
   "pygments_lexer": "ipython3",
   "version": "3.9.7"
  }
 },
 "nbformat": 4,
 "nbformat_minor": 2
}
